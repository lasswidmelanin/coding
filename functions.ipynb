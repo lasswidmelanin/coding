{
 "cells": [
  {
   "cell_type": "code",
   "execution_count": 2,
   "metadata": {},
   "outputs": [
    {
     "name": "stdout",
     "output_type": "stream",
     "text": [
      "2.0\n"
     ]
    }
   ],
   "source": [
    "def gmean(a,b):\n",
    "    gmn=(a*b)/(a+b)\n",
    "    print(gmn)\n",
    "\n",
    "gmean(a=3,b=6)"
   ]
  },
  {
   "cell_type": "code",
   "execution_count": 6,
   "metadata": {},
   "outputs": [
    {
     "name": "stdout",
     "output_type": "stream",
     "text": [
      "2.4\n"
     ]
    }
   ],
   "source": [
    "c,d=4,6\n",
    "gmean(c,d)"
   ]
  },
  {
   "cell_type": "code",
   "execution_count": 9,
   "metadata": {},
   "outputs": [
    {
     "name": "stdout",
     "output_type": "stream",
     "text": [
      "Second number greater or equals to\n"
     ]
    }
   ],
   "source": [
    "def grt_num(a,b):\n",
    "    if a>b:\n",
    "        print(\"First number is greater\")\n",
    "    else:\n",
    "        print(\"Second number greater or equals to\")\n",
    "\n",
    "grt_num(3,7)"
   ]
  },
  {
   "cell_type": "code",
   "execution_count": 13,
   "metadata": {},
   "outputs": [
    {
     "name": "stdout",
     "output_type": "stream",
     "text": [
      "Second number greater or equals to\n",
      "First number is greater\n",
      "Second number greater or equals to\n"
     ]
    }
   ],
   "source": [
    "grt_num(4,4)\n",
    "grt_num(10,4)\n",
    "c,d=12,10\n",
    "grt_num(d,c)"
   ]
  },
  {
   "cell_type": "code",
   "execution_count": null,
   "metadata": {},
   "outputs": [],
   "source": []
  }
 ],
 "metadata": {
  "kernelspec": {
   "display_name": "base",
   "language": "python",
   "name": "python3"
  },
  "language_info": {
   "codemirror_mode": {
    "name": "ipython",
    "version": 3
   },
   "file_extension": ".py",
   "mimetype": "text/x-python",
   "name": "python",
   "nbconvert_exporter": "python",
   "pygments_lexer": "ipython3",
   "version": "3.10.10"
  },
  "orig_nbformat": 4
 },
 "nbformat": 4,
 "nbformat_minor": 2
}
