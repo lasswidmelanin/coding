{
 "cells": [
  {
   "cell_type": "code",
   "execution_count": 3,
   "metadata": {},
   "outputs": [
    {
     "name": "stdout",
     "output_type": "stream",
     "text": [
      "Your age is: 19\n",
      "You can drive\n"
     ]
    }
   ],
   "source": [
    "a= int(input(\"Enter your age:\"))\n",
    "print(\"Your age is:\",a)\n",
    "\n",
    "if a>18:\n",
    "    print(\"You can drive\")\n",
    "else:\n",
    "    print(\"You cannot drive\")"
   ]
  },
  {
   "cell_type": "code",
   "execution_count": 5,
   "metadata": {},
   "outputs": [
    {
     "name": "stdout",
     "output_type": "stream",
     "text": [
      "True\n",
      "True\n",
      "False\n",
      "False\n",
      "True\n"
     ]
    }
   ],
   "source": [
    "b=19\n",
    "print(b>18)\n",
    "print(b>=18)\n",
    "print(b<18)\n",
    "print(b<=18)\n",
    "print(b!=18)"
   ]
  },
  {
   "cell_type": "markdown",
   "metadata": {},
   "source": [
    "# if elif"
   ]
  },
  {
   "cell_type": "code",
   "execution_count": 11,
   "metadata": {},
   "outputs": [
    {
     "name": "stdout",
     "output_type": "stream",
     "text": [
      "Number is special\n",
      "I am happy now\n"
     ]
    }
   ],
   "source": [
    "num=int(input(\"enter the value\"))\n",
    "if num<0:\n",
    "    print(\"Number is negative\")\n",
    "elif num == 0:\n",
    "    print(\"Number is zero\")\n",
    "elif num == 999:\n",
    "    print(\"Number is special\")\n",
    "else:\n",
    "    print(\"Number is positive\")\n",
    "\n",
    "print(\"I am happy now\")"
   ]
  },
  {
   "cell_type": "code",
   "execution_count": null,
   "metadata": {},
   "outputs": [],
   "source": []
  }
 ],
 "metadata": {
  "kernelspec": {
   "display_name": "base",
   "language": "python",
   "name": "python3"
  },
  "language_info": {
   "codemirror_mode": {
    "name": "ipython",
    "version": 3
   },
   "file_extension": ".py",
   "mimetype": "text/x-python",
   "name": "python",
   "nbconvert_exporter": "python",
   "pygments_lexer": "ipython3",
   "version": "3.10.10"
  },
  "orig_nbformat": 4
 },
 "nbformat": 4,
 "nbformat_minor": 2
}
