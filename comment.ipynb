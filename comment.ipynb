{
 "cells": [
  {
   "cell_type": "code",
   "execution_count": 1,
   "metadata": {},
   "outputs": [
    {
     "name": "stdout",
     "output_type": "stream",
     "text": [
      "Hello there! My name is Naincy\n"
     ]
    }
   ],
   "source": [
    "# this is a single line comment\n",
    "print(\"Hello there! My name is Naincy\")"
   ]
  },
  {
   "cell_type": "code",
   "execution_count": 2,
   "metadata": {},
   "outputs": [
    {
     "name": "stdout",
     "output_type": "stream",
     "text": [
      "naincy\n"
     ]
    }
   ],
   "source": [
    "\"\"\"\n",
    "Twinkle twinkle little star  \n",
    "how i wonder \n",
    "what you are\n",
    "\"\"\"     # can  make comment by using three double quotes \n",
    " \n",
    "print(\"naincy\")"
   ]
  },
  {
   "cell_type": "code",
   "execution_count": 3,
   "metadata": {},
   "outputs": [
    {
     "name": "stdout",
     "output_type": "stream",
     "text": [
      "my name is naincy and i am a \"teacher\" by profession\n"
     ]
    }
   ],
   "source": [
    "print(\"my name is naincy and i am a \\\"teacher\\\" by profession\")"
   ]
  },
  {
   "cell_type": "code",
   "execution_count": 4,
   "metadata": {},
   "outputs": [
    {
     "name": "stdout",
     "output_type": "stream",
     "text": [
      "twinkle*twinkle*little*star\n"
     ]
    }
   ],
   "source": [
    "print(\"twinkle\",\"twinkle\", \"little\", \"star\",sep=\"*\")"
   ]
  },
  {
   "cell_type": "code",
   "execution_count": 5,
   "metadata": {},
   "outputs": [
    {
     "name": "stdout",
     "output_type": "stream",
     "text": [
      "Twinkle twinkle little star how i wonder what you are\n"
     ]
    }
   ],
   "source": [
    "print(\"Twinkle twinkle little star how i wonder\",end=\" \") \n",
    "print(\"what you are\")"
   ]
  },
  {
   "cell_type": "code",
   "execution_count": 6,
   "metadata": {},
   "outputs": [
    {
     "name": "stdout",
     "output_type": "stream",
     "text": [
      "Twinkle twinkle little star how i wonderwhat you are\n"
     ]
    }
   ],
   "source": [
    "print(\"Twinkle twinkle little star how i wonder\",end=\"\") \n",
    "print(\"what you are\")"
   ]
  },
  {
   "cell_type": "code",
   "execution_count": 7,
   "metadata": {},
   "outputs": [
    {
     "name": "stdout",
     "output_type": "stream",
     "text": [
      "Twinkle twinkle little star how i wonder\n",
      "what you are\n"
     ]
    }
   ],
   "source": [
    "print(\"Twinkle twinkle little star how i wonder\",end=\"\\n\") \n",
    "print(\"what you are\")"
   ]
  },
  {
   "cell_type": "code",
   "execution_count": 8,
   "metadata": {},
   "outputs": [
    {
     "name": "stdout",
     "output_type": "stream",
     "text": [
      "Twinkle twinkle little star how i wonder 007 what you are\n"
     ]
    }
   ],
   "source": [
    "print(\"Twinkle twinkle little star how i wonder\",end=\" 007 \") \n",
    "print(\"what you are\")"
   ]
  },
  {
   "cell_type": "code",
   "execution_count": null,
   "metadata": {},
   "outputs": [],
   "source": []
  }
 ],
 "metadata": {
  "kernelspec": {
   "display_name": "base",
   "language": "python",
   "name": "python3"
  },
  "language_info": {
   "codemirror_mode": {
    "name": "ipython",
    "version": 3
   },
   "file_extension": ".py",
   "mimetype": "text/x-python",
   "name": "python",
   "nbconvert_exporter": "python",
   "pygments_lexer": "ipython3",
   "version": "3.10.10"
  },
  "orig_nbformat": 4
 },
 "nbformat": 4,
 "nbformat_minor": 2
}
