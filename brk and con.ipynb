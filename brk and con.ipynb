{
 "cells": [
  {
   "cell_type": "code",
   "execution_count": 8,
   "metadata": {},
   "outputs": [
    {
     "name": "stdout",
     "output_type": "stream",
     "text": [
      "5 X 1 = 5\n",
      "5 X 2 = 10\n",
      "5 X 3 = 15\n",
      "5 X 4 = 20\n",
      "5 X 5 = 25\n",
      "5 X 6 = 30\n",
      "5 X 7 = 35\n",
      "5 X 8 = 40\n",
      "5 X 9 = 45\n",
      "5 X 10 = 50\n",
      "table over\n"
     ]
    }
   ],
   "source": [
    "for i in range(12):\n",
    "    if i==10:\n",
    "        break\n",
    "    print(\"5 X\",i+1,\"=\", 5 * (i+1) )\n",
    "print(\"table over\")\n"
   ]
  },
  {
   "cell_type": "code",
   "execution_count": 10,
   "metadata": {},
   "outputs": [
    {
     "name": "stdout",
     "output_type": "stream",
     "text": [
      "5 X 1 = 0\n",
      "5 X 2 = 5\n",
      "5 X 3 = 10\n",
      "5 X 4 = 15\n",
      "5 X 5 = 20\n",
      "5 X 6 = 25\n",
      "5 X 7 = 30\n",
      "5 X 8 = 35\n",
      "5 X 9 = 40\n",
      "5 X 10 = 45\n",
      "Skip the iteration\n",
      "5 X 12 = 55\n",
      "table over\n"
     ]
    }
   ],
   "source": [
    "for i in range(12):\n",
    "    if i==10:\n",
    "        print(\"Skip the iteration\")\n",
    "        continue\n",
    "    print(\"5 X\",i+1,\"=\", 5 * i )\n",
    "print(\"table over\")\n"
   ]
  },
  {
   "cell_type": "code",
   "execution_count": null,
   "metadata": {},
   "outputs": [],
   "source": []
  }
 ],
 "metadata": {
  "kernelspec": {
   "display_name": "base",
   "language": "python",
   "name": "python3"
  },
  "language_info": {
   "codemirror_mode": {
    "name": "ipython",
    "version": 3
   },
   "file_extension": ".py",
   "mimetype": "text/x-python",
   "name": "python",
   "nbconvert_exporter": "python",
   "pygments_lexer": "ipython3",
   "version": "3.10.10"
  },
  "orig_nbformat": 4
 },
 "nbformat": 4,
 "nbformat_minor": 2
}
