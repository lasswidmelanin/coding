{
 "cells": [
  {
   "cell_type": "code",
   "execution_count": 3,
   "metadata": {},
   "outputs": [
    {
     "name": "stdout",
     "output_type": "stream",
     "text": [
      "5 is not 90\n"
     ]
    }
   ],
   "source": [
    "x=int(input(\"Enter a number to be checked\"))\n",
    "match x:\n",
    "    case 0:\n",
    "        print(\"Case is zero\")\n",
    "    case 4:\n",
    "        print(\"Case is four\")\n",
    "    case _ if x!=90 :\n",
    "        print(x,\"is not 90\")\n",
    "    case _ if x!=80 :\n",
    "        print(x,\"is not 80\")\n",
    "    case _ :\n",
    "        print(x)"
   ]
  }
 ],
 "metadata": {
  "kernelspec": {
   "display_name": "base",
   "language": "python",
   "name": "python3"
  },
  "language_info": {
   "codemirror_mode": {
    "name": "ipython",
    "version": 3
   },
   "file_extension": ".py",
   "mimetype": "text/x-python",
   "name": "python",
   "nbconvert_exporter": "python",
   "pygments_lexer": "ipython3",
   "version": "3.10.10"
  },
  "orig_nbformat": 4
 },
 "nbformat": 4,
 "nbformat_minor": 2
}
